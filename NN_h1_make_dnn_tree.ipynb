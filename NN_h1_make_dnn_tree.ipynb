{
 "cells": [
  {
   "cell_type": "markdown",
   "metadata": {},
   "source": [
    "## Reads in H1 DNN training and generates an output root TTree with DDN output added\n"
   ]
  },
  {
   "cell_type": "code",
   "execution_count": 1,
   "metadata": {},
   "outputs": [],
   "source": [
    "import time\n",
    "import numpy as np\n",
    "import pandas as pd\n",
    "import matplotlib.pyplot as plt\n",
    "import matplotlib.ticker as mticker\n",
    "from matplotlib.colors import LogNorm\n",
    "from matplotlib import rc\n",
    "from numpy import inf\n",
    "import os\n",
    "\n",
    "from os import listdir\n",
    "\n",
    "\n",
    "import uproot3\n",
    "\n",
    "import matplotlib as mpl\n",
    "\n",
    "from datetime import datetime\n",
    "import subprocess\n",
    "\n",
    "mpl.rcParams.update({'font.size': 19})\n",
    "mpl.rcParams.update({'xtick.labelsize': 18}) \n",
    "mpl.rcParams.update({'ytick.labelsize': 18}) \n",
    "mpl.rcParams.update({'text.usetex' : False})\n",
    "mpl.rcParams.update({'axes.labelsize': 18}) \n",
    "mpl.rcParams.update({'legend.frameon': False}) \n",
    "\n"
   ]
  },
  {
   "cell_type": "code",
   "execution_count": 2,
   "metadata": {},
   "outputs": [],
   "source": [
    "has_gpu = True\n",
    "\n",
    "#has_gpu = True\n",
    "\n",
    "regression_training_name = 'training_h1_reg_v2a'\n",
    "\n",
    "output_root_file = 'dnn-output-h1.root'\n",
    "\n",
    "input_file = '/data/owen/DIS-reco/h1-fullsim-2021-09-27-v2a/all-h1-rapgap.root'\n",
    "\n",
    "\n",
    "\n",
    "\n",
    "#-- for testing\n",
    "#max_events =   10000\n",
    "\n",
    "#-- for all events\n",
    "max_events = 1e9\n",
    "\n",
    "\n",
    "\n",
    "\n",
    "\n"
   ]
  },
  {
   "cell_type": "markdown",
   "metadata": {},
   "source": [
    "### Read in the input TTree.\n",
    "\n",
    "The input ttree variables should be fairly self explanatory from the names.\n",
    "\n",
    "The obs_x, obs_y, and obs_Q2 are arrays that contain the following calculations:\n",
    "\n",
    "0 - electron\n",
    "\n",
    "1 - E0 E Sigma\n",
    "\n",
    "2 - E0 Theta Sigma\n",
    "\n",
    "3 - DA\n",
    "\n",
    "4 - hadron\n",
    "\n",
    "5 - ISigma\n",
    "\n",
    "6 - IDA\n",
    "\n",
    "7 - Theta Sigma gamma\n",
    "\n",
    "8 - eSigma\n",
    "\n",
    "They are there for convenience to compare the DNN predictions with the standard methods.  They are not inputs to the DNN, so don't worry about them if you don't need or want them.\n"
   ]
  },
  {
   "cell_type": "code",
   "execution_count": 3,
   "metadata": {},
   "outputs": [
    {
     "name": "stdout",
     "output_type": "stream",
     "text": [
      "[b'Rapgap;1']\n",
      "<TTree b'minitree' at 0x7fa9df6c1910>\n",
      "wgt                        (no streamer)              asdtype('>f4')\n",
      "Empz                       (no streamer)              asdtype('>f4')\n",
      "from_tlv_gen_Q2            (no streamer)              asdtype('>f4')\n",
      "from_tlv_gen_x             (no streamer)              asdtype('>f4')\n",
      "from_tlv_gen_y             (no streamer)              asdtype('>f4')\n",
      "gen_new_Qi2s               (no streamer)              asdtype('>f4')\n",
      "gen_new_xis                (no streamer)              asdtype('>f4')\n",
      "gen_new_yis                (no streamer)              asdtype('>f4')\n",
      "gen_new_Q2ida              (no streamer)              asdtype('>f4')\n",
      "gen_new_xida               (no streamer)              asdtype('>f4')\n",
      "gen_new_yida               (no streamer)              asdtype('>f4')\n",
      "gen_HFS_Sigma              (no streamer)              asdtype('>f4')\n",
      "gen_HFS_T                  (no streamer)              asdtype('>f4')\n",
      "gen_eUncomb_E              (no streamer)              asdtype('>f4')\n",
      "gen_eUncomb_theta          (no streamer)              asdtype('>f4')\n",
      "gen_eRecomb_E              (no streamer)              asdtype('>f4')\n",
      "gen_eRecomb_theta          (no streamer)              asdtype('>f4')\n",
      "obs_e_theta                (no streamer)              asdtype('>f4')\n",
      "obs_hfs_T                  (no streamer)              asdtype('>f4')\n",
      "obs_hfs_Sigma              (no streamer)              asdtype('>f4')\n",
      "obs_DeltaPhi               (no streamer)              asdtype('>f4')\n",
      "beam_e_e                   (no streamer)              asdtype('>f4')\n",
      "beam_p_e                   (no streamer)              asdtype('>f4')\n",
      "has_isr                    (no streamer)              asdtype('int8')\n",
      "has_fsr                    (no streamer)              asdtype('int8')\n",
      "obs_e_e                    (no streamer)              asdtype('>f4')\n",
      "obs_e_pz                   (no streamer)              asdtype('>f4')\n",
      "obs_e_pt                   (no streamer)              asdtype('>f4')\n",
      "obs_e_phi                  (no streamer)              asdtype('>f4')\n",
      "obs_e_eta                  (no streamer)              asdtype('>f4')\n",
      "obs_hfs_e                  (no streamer)              asdtype('>f4')\n",
      "obs_hfs_pz                 (no streamer)              asdtype('>f4')\n",
      "obs_hfs_pt                 (no streamer)              asdtype('>f4')\n",
      "obs_hfs_phi                (no streamer)              asdtype('>f4')\n",
      "obs_hfs_eta                (no streamer)              asdtype('>f4')\n",
      "obs_dphi                   (no streamer)              asdtype('>f4')\n",
      "obs_x                      (no streamer)              asdtype(\"('>f4', (9,))\")\n",
      "obs_y                      (no streamer)              asdtype(\"('>f4', (9,))\")\n",
      "obs_Q2                     (no streamer)              asdtype(\"('>f4', (9,))\")\n",
      "phi_pho_closest_to_ebeam   (no streamer)              asdtype('>f4')\n",
      "eta_pho_closest_to_ebeam   (no streamer)              asdtype('>f4')\n",
      "e_pho_closest_to_ebeam     (no streamer)              asdtype('>f4')\n",
      "tower_sum_40               (no streamer)              asdtype('>f4')\n",
      "n_towers_40                (no streamer)              asdtype('>i4')\n",
      "obs_e_trk_e                (no streamer)              asdtype('>f4')\n",
      "obs_e_trk_eta              (no streamer)              asdtype('>f4')\n",
      "obs_e_trk_phi              (no streamer)              asdtype('>f4')\n",
      "\n",
      "\n",
      " Number of entries in pandas_df:  61636821 \n",
      "CPU times: user 39.3 s, sys: 2.56 s, total: 41.9 s\n",
      "Wall time: 41.9 s\n"
     ]
    }
   ],
   "source": [
    "%%time\n",
    "\n",
    "\n",
    "ur_file = uproot3.open(input_file)\n",
    "\n",
    "print (ur_file.keys()) \n",
    "ur_tree = ur_file['Rapgap/minitree']\n",
    "print(ur_tree)\n",
    "ur_tree.show()\n",
    "\n",
    "\n",
    "pandas_df   =  ur_tree.pandas.df(\n",
    "    ['has_isr','has_fsr',\n",
    "     'tower_sum_40','n_towers_40', ''\n",
    "     'eta_pho_closest_to_ebeam','e_pho_closest_to_ebeam', 'phi_pho_closest_to_ebeam',\n",
    "     'obs_x', 'obs_y', 'obs_Q2',\n",
    "     'from_tlv_gen_Q2','from_tlv_gen_x','from_tlv_gen_y',\n",
    "     'obs_e_e','obs_e_pz','obs_e_pt','obs_e_phi',\n",
    "     'obs_hfs_e','obs_hfs_pz','obs_hfs_pt','obs_hfs_phi',\n",
    "     'obs_dphi',\n",
    "     'Empz', 'obs_e_trk_e',\n",
    "     'gen_eUncomb_E','gen_eUncomb_theta',\n",
    "     'gen_HFS_Sigma','gen_HFS_T',\n",
    "     'beam_e_e', 'beam_p_e',\n",
    "     'wgt'\n",
    "    ],\n",
    "    entrystop=max_events,flatten=True)\n",
    "\n",
    "print('\\n\\n Number of entries in pandas_df:  %d ' % pandas_df.shape[0] )"
   ]
  },
  {
   "cell_type": "markdown",
   "metadata": {},
   "source": [
    "### Add any derived variables here"
   ]
  },
  {
   "cell_type": "code",
   "execution_count": 4,
   "metadata": {},
   "outputs": [
    {
     "name": "stdout",
     "output_type": "stream",
     "text": [
      "CPU times: user 5.48 s, sys: 3.19 s, total: 8.67 s\n",
      "Wall time: 5.23 s\n"
     ]
    }
   ],
   "source": [
    "%%time\n",
    "\n",
    "pandas_df.eval( 'obs_hfs_Empz = obs_hfs_e - obs_hfs_pz', inplace=True )\n",
    "pandas_df.eval( 'obs_e_Empz = obs_e_e - obs_e_pz', inplace=True )\n",
    "\n",
    "pandas_df.eval( 'obs_event_Empz = obs_hfs_Empz + obs_e_Empz', inplace=True )\n",
    "\n",
    "pandas_df.eval( 'rot_pt1 = 0.70710678 * obs_hfs_pt - 0.70710678 * obs_e_pt', inplace=True )\n",
    "pandas_df.eval( 'rot_pt2 = 0.70710678 * obs_hfs_pt + 0.70710678 * obs_e_pt', inplace=True )\n",
    "\n",
    "pandas_df.eval( 'rot_Empz1 = 0.70710678 * obs_hfs_Empz - 0.70710678 * obs_e_Empz', inplace=True )\n",
    "pandas_df.eval( 'rot_Empz2 = 0.70710678 * obs_hfs_Empz + 0.70710678 * obs_e_Empz', inplace=True )\n",
    "\n",
    "pandas_df.eval( 'gen_log_x = log(from_tlv_gen_x)', inplace=True )\n",
    "pandas_df.eval( 'gen_log_y = log(from_tlv_gen_y)', inplace=True )\n",
    "pandas_df.eval( 'gen_log_Q2 = log(from_tlv_gen_Q2)', inplace=True )\n",
    "\n",
    "pandas_df.eval( 'e_ecal_over_trk_ratio = tower_sum_40/obs_e_trk_e', inplace=True )\n",
    "pandas_df.eval( 'e_ecal_over_trk_ratio = (e_ecal_over_trk_ratio<4)*e_ecal_over_trk_ratio + (e_ecal_over_trk_ratio>4)*4', inplace=True )\n",
    "\n",
    "pandas_df.eval( 'dphi_pho_closest_to_ebeam = obs_e_phi - phi_pho_closest_to_ebeam', inplace=True )\n",
    "pandas_df.eval( 'dphi_pho_closest_to_ebeam = (abs(dphi_pho_closest_to_ebeam)<3.14159265)*(dphi_pho_closest_to_ebeam)+(dphi_pho_closest_to_ebeam>3.14159265)*(dphi_pho_closest_to_ebeam-2*3.14159265) + (dphi_pho_closest_to_ebeam<-3.14159265)*(dphi_pho_closest_to_ebeam+2*3.14159265)', inplace=True )\n",
    "pandas_df.eval( 'dphi_pho_closest_to_ebeam = (dphi_pho_closest_to_ebeam>0)*dphi_pho_closest_to_ebeam + (dphi_pho_closest_to_ebeam<0)*(dphi_pho_closest_to_ebeam+2*3.14159265)', inplace=True )\n",
    "pandas_df.eval( 'dphi_pho_closest_to_ebeam = (phi_pho_closest_to_ebeam!=0)*(dphi_pho_closest_to_ebeam)+(phi_pho_closest_to_ebeam==0)*(-1)', inplace=True )\n",
    "\n",
    "pandas_df.eval( 'e_pho_closest_to_ebeam = (e_pho_closest_to_ebeam<30)*e_pho_closest_to_ebeam + (e_pho_closest_to_ebeam>30)*30', inplace=True )\n",
    "\n",
    "pandas_df.eval( 'n_towers_40 = (n_towers_40<7)*n_towers_40 + (n_towers_40>=7)*7', inplace=True  )\n",
    "\n",
    "pandas_df.eval( 'has_norad = (has_isr==0) and (has_fsr==0)', inplace=True )"
   ]
  },
  {
   "cell_type": "code",
   "execution_count": 5,
   "metadata": {},
   "outputs": [
    {
     "name": "stdout",
     "output_type": "stream",
     "text": [
      "CPU times: user 2.87 s, sys: 1e+03 ms, total: 3.87 s\n",
      "Wall time: 1.65 s\n"
     ]
    }
   ],
   "source": [
    "%%time\n",
    "\n",
    "pandas_df.eval( 'gen_eBare_pt = gen_eUncomb_E * sin(gen_eUncomb_theta)', inplace=True )\n",
    "pandas_df.eval( 'gen_eBare_pz = gen_eUncomb_E * cos(gen_eUncomb_theta)', inplace=True )\n",
    "pandas_df.eval( 'gen_eBare_Sig_e = gen_eUncomb_E - gen_eBare_pz', inplace=True )\n",
    "\n",
    "\n",
    "pandas_df.eval( 'gen_ptbal = 1. - gen_eBare_pt/gen_HFS_T', inplace=True )\n",
    "pandas_df.eval( 'gen_pzbal = 1. - (gen_eBare_Sig_e + gen_HFS_Sigma)/(2.*beam_e_e)', inplace=True )\n",
    "\n",
    "pandas_df.eval( 'gen_empz = gen_eBare_Sig_e + gen_HFS_Sigma', inplace=True )\n",
    "\n",
    "pandas_df.eval( 'obs_ptbal = 1. - obs_e_pt / obs_hfs_pt', inplace=True )\n",
    "pandas_df.eval( 'obs_pzbal = 1. - (obs_hfs_Empz + obs_e_Empz)/2./beam_e_e', inplace=True )\n",
    "\n",
    "pandas_df.eval( 'obs_hfs_theta = arctan2(obs_hfs_pt,obs_hfs_pz)', inplace=True )\n"
   ]
  },
  {
   "cell_type": "markdown",
   "metadata": {},
   "source": [
    "## Apply any event selection here."
   ]
  },
  {
   "cell_type": "code",
   "execution_count": 6,
   "metadata": {},
   "outputs": [
    {
     "name": "stdout",
     "output_type": "stream",
     "text": [
      "\n",
      "\n",
      " Number of entries in pandas_df before selection :  61636821 \n",
      "\n",
      "\n",
      " Number of entries in pandas_df after selection:  12030185 \n",
      "CPU times: user 8.15 s, sys: 4.71 s, total: 12.9 s\n",
      "Wall time: 12.7 s\n"
     ]
    }
   ],
   "source": [
    "%%time\n",
    "\n",
    "print('\\n\\n Number of entries in pandas_df before selection :  %d ' % pandas_df.shape[0] )\n",
    "\n",
    "\n",
    "pandas_df = pandas_df.query('Empz > 0')\n",
    "\n",
    "\n",
    "pandas_df = pandas_df.query('obs_event_Empz > 46 and obs_event_Empz < 62')\n",
    "\n",
    "pandas_df = pandas_df.query('gen_empz > 44 and gen_empz < 64')\n",
    "\n",
    "pandas_df = pandas_df.query('obs_hfs_pt > 0')\n",
    "\n",
    "pandas_df = pandas_df.query('from_tlv_gen_Q2 > 200')\n",
    "\n",
    "pandas_df = pandas_df.query('e_ecal_over_trk_ratio > 0')\n",
    "\n",
    "print('\\n\\n Number of entries in pandas_df after selection:  %d ' % pandas_df.shape[0] )\n",
    "\n",
    "\n",
    "\n"
   ]
  },
  {
   "cell_type": "markdown",
   "metadata": {},
   "source": [
    "## Set up machine learning stuff"
   ]
  },
  {
   "cell_type": "code",
   "execution_count": 7,
   "metadata": {},
   "outputs": [
    {
     "name": "stdout",
     "output_type": "stream",
     "text": [
      "[PhysicalDevice(name='/physical_device:CPU:0', device_type='CPU'), PhysicalDevice(name='/physical_device:GPU:0', device_type='GPU')]\n"
     ]
    }
   ],
   "source": [
    "import tensorflow as tf\n",
    "from tensorflow.keras.layers import Input, Dense, Dropout\n",
    "from tensorflow.keras.models import Model, Sequential\n",
    "from sklearn.model_selection import train_test_split\n",
    "from sklearn.preprocessing import StandardScaler\n",
    "\n",
    "from pickle import load\n",
    "\n",
    "#-- Ben suggested to try this.  2021-08-07\n",
    "from tensorflow.keras.callbacks import EarlyStopping\n",
    "earlystopping = EarlyStopping(patience=10,\n",
    "               verbose=True,\n",
    "               restore_best_weights=True)\n",
    "\n",
    "import os\n",
    "\n",
    "print(tf.config.list_physical_devices())\n",
    "\n",
    "if has_gpu :\n",
    "    os.environ['CUDA_VISIBLE_DEVICES']=\"0\"\n",
    "    physical_devices = tf.config.list_physical_devices('GPU') \n",
    "    tf.config.experimental.set_memory_growth(physical_devices[0], True)\n",
    "\n",
    "#####physical_devices = tf.config.list_physical_devices('CPU')"
   ]
  },
  {
   "cell_type": "markdown",
   "metadata": {},
   "source": [
    "### Load the inputs for the DNN and transform them.   Don't change anything here!"
   ]
  },
  {
   "cell_type": "code",
   "execution_count": 8,
   "metadata": {},
   "outputs": [],
   "source": [
    "\n",
    "X = np.c_[\n",
    "    pandas_df['e_ecal_over_trk_ratio'].to_numpy(),\n",
    "    pandas_df['n_towers_40'].to_numpy(),\n",
    "    pandas_df['eta_pho_closest_to_ebeam'].to_numpy(),\n",
    "    pandas_df['e_pho_closest_to_ebeam'].to_numpy(),\n",
    "    pandas_df['dphi_pho_closest_to_ebeam'].to_numpy(),\n",
    "    pandas_df['obs_e_pz'].to_numpy(),\n",
    "    pandas_df['obs_e_e'].to_numpy(),\n",
    "    pandas_df['obs_hfs_pz'].to_numpy(),\n",
    "    pandas_df['obs_hfs_e'].to_numpy(),\n",
    "    pandas_df['rot_pt1'].to_numpy(),\n",
    "    pandas_df['rot_Empz1'].to_numpy(),\n",
    "    pandas_df['rot_pt2'].to_numpy(),\n",
    "    pandas_df['obs_pzbal'].to_numpy(),\n",
    "    pandas_df['obs_ptbal'].to_numpy(),\n",
    "    pandas_df['obs_dphi'].to_numpy(),\n",
    "]\n",
    "\n",
    "\n",
    "#-- Load the scaler transformations!  These are essential when reusing the training with a different dataset.\n",
    "\n",
    "scaler = load( open('%s-scalers/input_scaler.pkl' % regression_training_name, 'rb'))\n",
    "X = scaler.transform(X)\n",
    "\n",
    "    "
   ]
  },
  {
   "cell_type": "markdown",
   "metadata": {},
   "source": [
    "## Set up the regression network"
   ]
  },
  {
   "cell_type": "code",
   "execution_count": 9,
   "metadata": {},
   "outputs": [
    {
     "name": "stdout",
     "output_type": "stream",
     "text": [
      "Model: \"sequential\"\n",
      "_________________________________________________________________\n",
      "Layer (type)                 Output Shape              Param #   \n",
      "=================================================================\n",
      "dense (Dense)                (None, 64)                1024      \n",
      "_________________________________________________________________\n",
      "dropout (Dropout)            (None, 64)                0         \n",
      "_________________________________________________________________\n",
      "dense_1 (Dense)              (None, 128)               8320      \n",
      "_________________________________________________________________\n",
      "dropout_1 (Dropout)          (None, 128)               0         \n",
      "_________________________________________________________________\n",
      "dense_2 (Dense)              (None, 512)               66048     \n",
      "_________________________________________________________________\n",
      "dropout_2 (Dropout)          (None, 512)               0         \n",
      "_________________________________________________________________\n",
      "dense_3 (Dense)              (None, 1024)              525312    \n",
      "_________________________________________________________________\n",
      "dropout_3 (Dropout)          (None, 1024)              0         \n",
      "_________________________________________________________________\n",
      "dense_4 (Dense)              (None, 512)               524800    \n",
      "_________________________________________________________________\n",
      "dropout_4 (Dropout)          (None, 512)               0         \n",
      "_________________________________________________________________\n",
      "dense_5 (Dense)              (None, 128)               65664     \n",
      "_________________________________________________________________\n",
      "dropout_5 (Dropout)          (None, 128)               0         \n",
      "_________________________________________________________________\n",
      "dense_6 (Dense)              (None, 64)                8256      \n",
      "_________________________________________________________________\n",
      "dense_7 (Dense)              (None, 3)                 195       \n",
      "=================================================================\n",
      "Total params: 1,199,619\n",
      "Trainable params: 1,199,619\n",
      "Non-trainable params: 0\n",
      "_________________________________________________________________\n"
     ]
    }
   ],
   "source": [
    "model_r = tf.keras.models.load_model('%s_regression' % regression_training_name )\n",
    "model_r.summary()\n",
    "\n"
   ]
  },
  {
   "cell_type": "code",
   "execution_count": 10,
   "metadata": {},
   "outputs": [
    {
     "name": "stdout",
     "output_type": "stream",
     "text": [
      "CPU times: user 9.32 s, sys: 988 ms, total: 10.3 s\n",
      "Wall time: 7.25 s\n"
     ]
    }
   ],
   "source": [
    "%%time\n",
    "\n",
    "mypreds_r = model_r.predict(X,batch_size=1000)"
   ]
  },
  {
   "cell_type": "markdown",
   "metadata": {},
   "source": [
    "### Undo the variable transformations"
   ]
  },
  {
   "cell_type": "code",
   "execution_count": 11,
   "metadata": {},
   "outputs": [],
   "source": [
    "scalerY = load( open('%s-scalers/target_scaler.pkl' % regression_training_name , 'rb'))\n",
    "\n",
    "inv_trans_pred = scalerY.inverse_transform(mypreds_r)\n",
    "pred_vals = np.exp( inv_trans_pred )"
   ]
  },
  {
   "cell_type": "markdown",
   "metadata": {},
   "source": [
    "### Save the results in an output root file\n",
    "\n",
    "You may only care about the first 6 branches here (gen and dnn x,y,Q2).\n",
    "\n",
    "The other x, y, and Q2 calculations are included for ease of comparison and can be omitted if you don't need or want them."
   ]
  },
  {
   "cell_type": "code",
   "execution_count": 12,
   "metadata": {},
   "outputs": [
    {
     "name": "stdout",
     "output_type": "stream",
     "text": [
      "CPU times: user 25.3 s, sys: 959 ms, total: 26.3 s\n",
      "Wall time: 26.4 s\n"
     ]
    }
   ],
   "source": [
    "%%time\n",
    "\n",
    "\n",
    "root_file = uproot3.recreate( output_root_file )\n",
    "\n",
    "root_file['dnnout'] = uproot3.newtree(\n",
    "        {\n",
    "            'gen_x': np.float32,\n",
    "            'gen_y' : np.float32,\n",
    "            'gen_q2' : np.float32,\n",
    "            'dnn_x' : np.float32,\n",
    "            'dnn_y' : np.float32,\n",
    "            'dnn_q2' : np.float32,\n",
    "            'has_isr' : bool,\n",
    "            'has_fsr' : bool,\n",
    "            'has_norad' : bool,\n",
    "            'rec_x_e' : np.float32,\n",
    "            'rec_y_e' : np.float32,\n",
    "            'rec_q2_e' : np.float32,\n",
    "            'rec_x_da' : np.float32,\n",
    "            'rec_y_da' : np.float32,\n",
    "            'rec_q2_da' : np.float32,\n",
    "            'rec_x_h' : np.float32,\n",
    "            'rec_y_h' : np.float32,\n",
    "            'rec_q2_h' : np.float32,\n",
    "            'rec_x_is' : np.float32,\n",
    "            'rec_y_is' : np.float32,\n",
    "            'rec_q2_is' : np.float32,\n",
    "            'wgt' :np.float32,\n",
    "        }\n",
    "    )\n",
    "\n",
    "root_file['dnnout'].extend(\n",
    "        {\n",
    "            'gen_x'  : pandas_df['from_tlv_gen_x'].to_numpy(),\n",
    "            'gen_y'  : pandas_df['from_tlv_gen_y'].to_numpy(),\n",
    "            'gen_q2' : pandas_df['from_tlv_gen_Q2'].to_numpy(),\n",
    "            'dnn_x'  : pred_vals[:,0],\n",
    "            'dnn_y'  : pred_vals[:,2],\n",
    "            'dnn_q2' : pred_vals[:,1],\n",
    "            'has_isr'   : pandas_df['has_isr'].to_numpy(),\n",
    "            'has_fsr'   : pandas_df['has_fsr'].to_numpy(),\n",
    "            'has_norad'   : pandas_df['has_norad'].to_numpy(),\n",
    "            'rec_x_e'  : pandas_df['obs_x[0]'].to_numpy(),\n",
    "            'rec_y_e'  : pandas_df['obs_y[0]'].to_numpy(),\n",
    "            'rec_q2_e' : pandas_df['obs_Q2[0]'].to_numpy(),\n",
    "            'rec_x_da'  : pandas_df['obs_x[3]'].to_numpy(),\n",
    "            'rec_y_da'  : pandas_df['obs_y[3]'].to_numpy(),\n",
    "            'rec_q2_da' : pandas_df['obs_Q2[3]'].to_numpy(),\n",
    "            'rec_x_h'  : pandas_df['obs_x[4]'].to_numpy(),\n",
    "            'rec_y_h'  : pandas_df['obs_y[4]'].to_numpy(),\n",
    "            'rec_q2_h' : pandas_df['obs_Q2[4]'].to_numpy(),\n",
    "            'rec_x_is'  : pandas_df['obs_x[5]'].to_numpy(),\n",
    "            'rec_y_is'  : pandas_df['obs_y[5]'].to_numpy(),\n",
    "            'rec_q2_is' : pandas_df['obs_Q2[5]'].to_numpy(),\n",
    "            'wgt' : pandas_df['wgt'].to_numpy(),\n",
    "        }\n",
    "    )\n",
    "\n",
    "root_file.close()"
   ]
  },
  {
   "cell_type": "code",
   "execution_count": null,
   "metadata": {},
   "outputs": [],
   "source": []
  },
  {
   "cell_type": "code",
   "execution_count": null,
   "metadata": {},
   "outputs": [],
   "source": []
  },
  {
   "cell_type": "code",
   "execution_count": null,
   "metadata": {},
   "outputs": [],
   "source": []
  },
  {
   "cell_type": "code",
   "execution_count": null,
   "metadata": {},
   "outputs": [],
   "source": []
  }
 ],
 "metadata": {
  "kernelspec": {
   "display_name": "Python 3",
   "language": "python",
   "name": "python3"
  },
  "language_info": {
   "codemirror_mode": {
    "name": "ipython",
    "version": 3
   },
   "file_extension": ".py",
   "mimetype": "text/x-python",
   "name": "python",
   "nbconvert_exporter": "python",
   "pygments_lexer": "ipython3",
   "version": "3.8.10"
  }
 },
 "nbformat": 4,
 "nbformat_minor": 4
}
